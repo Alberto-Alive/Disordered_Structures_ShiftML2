{
 "cells": [
  {
   "cell_type": "markdown",
   "id": "1396f000",
   "metadata": {},
   "source": [
    "# Commands\n",
    "\n",
    "All commands can be seen if you run: \n",
    "```python\n",
    "python script_name.py --help \n",
    "```\n",
    "## Visual guide\n",
    "\n",
    "<iframe width=\"560\" height=\"315\" src=\"https://www.youtube.com/embed/f1UfwtmJnJY?rel=0&amp;controls=0&amp;showinfo=0\" frameborder=\"0\" allowfullscreen></iframe>\n",
    "\n",
    "\n",
    "\n",
    "## Make predictions\n",
    "Script name: make_predictions.py\n",
    "\n",
    "```python\n",
    "python make_predictions.py *.xyz ./example/ababub_xyz_files/*.xyz H -ase \"{'index' : ':'}\" -s\n",
    "```\n",
    "\n",
    "## Create spectra\n",
    "Script name: create_spectra.py\n",
    "\n",
    "```python\n",
    "python create_spectra.py *.magres H -t custom_title -fb 0.05 -b 300 -r 0.5 -fr \"{'min':10, 'max':35}\"\n",
    "```\n",
    "## Compare spectra\n",
    "Script name: compare_spectra.py\n",
    "\n",
    "```python\n",
    "python compare_spectra.py *.magres H -t custom_title -fb 0.05 -b 300 -r 0.5 -w [1, 4, 0, 2, 0, 2, 2, 2, 0, 0, 0, 0, 0, 0, 0, 1] -fr \"{'min':10, 'max':35}\"\n",
    "```"
   ]
  }
 ],
 "metadata": {
  "jupytext": {
   "formats": "md:myst",
   "text_representation": {
    "extension": ".md",
    "format_name": "myst",
    "format_version": 0.13,
    "jupytext_version": "1.11.5"
   }
  },
  "kernelspec": {
   "display_name": "Python 3",
   "language": "python",
   "name": "python3"
  },
  "language_info": {
   "codemirror_mode": {
    "name": "ipython",
    "version": 3
   },
   "file_extension": ".py",
   "mimetype": "text/x-python",
   "name": "python",
   "nbconvert_exporter": "python",
   "pygments_lexer": "ipython3",
   "version": "3.10.6"
  },
  "source_map": [
   13
  ]
 },
 "nbformat": 4,
 "nbformat_minor": 5
}