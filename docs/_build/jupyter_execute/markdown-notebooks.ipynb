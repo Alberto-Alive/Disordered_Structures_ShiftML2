{
 "cells": [
  {
   "cell_type": "markdown",
   "id": "c13388fc",
   "metadata": {},
   "source": [
    "# Commands\n",
    "\n",
    "All commands can be seen if you run:"
   ]
  },
  {
   "cell_type": "code",
   "execution_count": 1,
   "id": "e44eea2f",
   "metadata": {},
   "outputs": [
    {
     "ename": "SyntaxError",
     "evalue": "invalid syntax (2780612198.py, line 1)",
     "output_type": "error",
     "traceback": [
      "\u001b[1;36m  Cell \u001b[1;32mIn [1], line 1\u001b[1;36m\u001b[0m\n\u001b[1;33m    python script_name.py --help\u001b[0m\n\u001b[1;37m           ^\u001b[0m\n\u001b[1;31mSyntaxError\u001b[0m\u001b[1;31m:\u001b[0m invalid syntax\n"
     ]
    }
   ],
   "source": [
    "python script_name.py --help "
   ]
  },
  {
   "cell_type": "markdown",
   "id": "a88c5a1c",
   "metadata": {},
   "source": [
    "## Visual guide\n",
    "\n",
    "<iframe width=\"560\" height=\"315\" src=\"https://www.youtube.com/embed/S_f2qV2_U00?rel=0&amp;controls=0&amp;showinfo=0\" frameborder=\"0\" allowfullscreen></iframe>\n",
    "\n",
    "\n",
    "## Make predictions\n",
    "Script name: make_predictions.py"
   ]
  },
  {
   "cell_type": "code",
   "execution_count": null,
   "id": "3fe482b1",
   "metadata": {},
   "outputs": [],
   "source": [
    "python make_predictions.py *.xyz ./example/ababub_xyz_files/*.xyz H -ase \"{'index' : ':'}\" -s"
   ]
  },
  {
   "cell_type": "markdown",
   "id": "675eea09",
   "metadata": {},
   "source": [
    "## Create spectra\n",
    "Script name: create_spectra.py"
   ]
  },
  {
   "cell_type": "code",
   "execution_count": null,
   "id": "87b64302",
   "metadata": {},
   "outputs": [],
   "source": [
    "python create_spectra.py *.magres H -t custom_title -fb 0.05 -b 300 -r 0.5 -fr \"{'min':10, 'max':35}\""
   ]
  },
  {
   "cell_type": "markdown",
   "id": "42e32d7e",
   "metadata": {},
   "source": [
    "## Compare spectra\n",
    "Script name: compare_spectra.py"
   ]
  },
  {
   "cell_type": "code",
   "execution_count": null,
   "id": "fbb84b91",
   "metadata": {},
   "outputs": [],
   "source": [
    "python compare_spectra.py *.magres H -t custom_title -fb 0.05 -b 300 -r 0.5 -w [1, 4, 0, 2, 0, 2, 2, 2, 0, 0, 0, 0, 0, 0, 0, 1] -fr \"{'min':10, 'max':35}\""
   ]
  }
 ],
 "metadata": {
  "jupytext": {
   "formats": "md:myst",
   "text_representation": {
    "extension": ".md",
    "format_name": "myst",
    "format_version": 0.13,
    "jupytext_version": "1.11.5"
   }
  },
  "kernelspec": {
   "display_name": "Python 3",
   "language": "python",
   "name": "python3"
  },
  "language_info": {
   "codemirror_mode": {
    "name": "ipython",
    "version": 3
   },
   "file_extension": ".py",
   "mimetype": "text/x-python",
   "name": "python",
   "nbconvert_exporter": "python",
   "pygments_lexer": "ipython3",
   "version": "3.10.6"
  },
  "source_map": [
   13,
   18,
   20,
   29,
   31,
   36,
   38,
   42
  ]
 },
 "nbformat": 4,
 "nbformat_minor": 5
}